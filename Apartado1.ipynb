{
 "cells": [
  {
   "cell_type": "code",
   "execution_count": 5,
   "id": "f9cdbb40",
   "metadata": {},
   "outputs": [],
   "source": [
    "import pandas as pd\n",
    "from sklearn.model_selection import train_test_split\n",
    "from sklearn.pipeline import Pipeline\n",
    "from sklearn.compose import ColumnTransformer\n",
    "from sklearn.preprocessing import OneHotEncoder, StandardScaler\n",
    "from sklearn.impute import SimpleImputer\n",
    "from sklearn.ensemble import RandomForestClassifier"
   ]
  },
  {
   "cell_type": "code",
   "execution_count": 6,
   "id": "42a30097",
   "metadata": {},
   "outputs": [
    {
     "data": {
      "application/vnd.microsoft.datawrangler.viewer.v0+json": {
       "columns": [
        {
         "name": "index",
         "rawType": "int64",
         "type": "integer"
        },
        {
         "name": "id",
         "rawType": "int64",
         "type": "integer"
        },
        {
         "name": "age",
         "rawType": "float64",
         "type": "float"
        },
        {
         "name": "gender",
         "rawType": "object",
         "type": "string"
        },
        {
         "name": "country",
         "rawType": "object",
         "type": "string"
        },
        {
         "name": "diagnosis_date",
         "rawType": "object",
         "type": "string"
        },
        {
         "name": "cancer_stage",
         "rawType": "object",
         "type": "string"
        },
        {
         "name": "beginning_of_treatment_date",
         "rawType": "object",
         "type": "string"
        },
        {
         "name": "family_history",
         "rawType": "object",
         "type": "string"
        },
        {
         "name": "smoking_status",
         "rawType": "object",
         "type": "string"
        },
        {
         "name": "bmi",
         "rawType": "float64",
         "type": "float"
        },
        {
         "name": "cholesterol_level",
         "rawType": "int64",
         "type": "integer"
        },
        {
         "name": "hypertension",
         "rawType": "int64",
         "type": "integer"
        },
        {
         "name": "asthma",
         "rawType": "int64",
         "type": "integer"
        },
        {
         "name": "cirrhosis",
         "rawType": "int64",
         "type": "integer"
        },
        {
         "name": "other_cancer",
         "rawType": "int64",
         "type": "integer"
        },
        {
         "name": "treatment_type",
         "rawType": "object",
         "type": "string"
        },
        {
         "name": "end_treatment_date",
         "rawType": "object",
         "type": "string"
        },
        {
         "name": "survived",
         "rawType": "int64",
         "type": "integer"
        }
       ],
       "ref": "c22808b8-0988-4908-8bb5-b99b542d4645",
       "rows": [
        [
         "0",
         "1",
         "64.0",
         "Female",
         "Germany",
         "2016-04-07",
         "Stage III",
         "2016-04-21",
         "No",
         "Never Smoked",
         "31.1",
         "257",
         "1",
         "1",
         "0",
         "0",
         "Combined",
         "2017-11-15",
         "0"
        ],
        [
         "1",
         "2",
         "50.0",
         "Male",
         "Czech Republic",
         "2023-04-22",
         "Stage III",
         "2023-05-02",
         "Yes",
         "Passive Smoker",
         "25.9",
         "208",
         "1",
         "0",
         "0",
         "0",
         "Radiation",
         "2024-04-25",
         "0"
        ],
        [
         "2",
         "3",
         "65.0",
         "Male",
         "Romania",
         "2023-04-07",
         "Stage IV",
         "2023-04-12",
         "No",
         "Never Smoked",
         "18.9",
         "193",
         "0",
         "0",
         "0",
         "0",
         "Surgery",
         "2025-03-11",
         "0"
        ],
        [
         "3",
         "4",
         "51.0",
         "Female",
         "Latvia",
         "2016-02-07",
         "Stage III",
         "2016-02-13",
         "Yes",
         "Former Smoker",
         "34.6",
         "249",
         "1",
         "1",
         "1",
         "0",
         "Surgery",
         "2017-04-14",
         "1"
        ],
        [
         "4",
         "5",
         "37.0",
         "Male",
         "Greece",
         "2023-12-01",
         "Stage I",
         "2023-12-03",
         "Yes",
         "Never Smoked",
         "40.2",
         "262",
         "0",
         "0",
         "0",
         "0",
         "Chemotherapy",
         "2024-09-20",
         "0"
        ]
       ],
       "shape": {
        "columns": 18,
        "rows": 5
       }
      },
      "text/html": [
       "<div>\n",
       "<style scoped>\n",
       "    .dataframe tbody tr th:only-of-type {\n",
       "        vertical-align: middle;\n",
       "    }\n",
       "\n",
       "    .dataframe tbody tr th {\n",
       "        vertical-align: top;\n",
       "    }\n",
       "\n",
       "    .dataframe thead th {\n",
       "        text-align: right;\n",
       "    }\n",
       "</style>\n",
       "<table border=\"1\" class=\"dataframe\">\n",
       "  <thead>\n",
       "    <tr style=\"text-align: right;\">\n",
       "      <th></th>\n",
       "      <th>id</th>\n",
       "      <th>age</th>\n",
       "      <th>gender</th>\n",
       "      <th>country</th>\n",
       "      <th>diagnosis_date</th>\n",
       "      <th>cancer_stage</th>\n",
       "      <th>beginning_of_treatment_date</th>\n",
       "      <th>family_history</th>\n",
       "      <th>smoking_status</th>\n",
       "      <th>bmi</th>\n",
       "      <th>cholesterol_level</th>\n",
       "      <th>hypertension</th>\n",
       "      <th>asthma</th>\n",
       "      <th>cirrhosis</th>\n",
       "      <th>other_cancer</th>\n",
       "      <th>treatment_type</th>\n",
       "      <th>end_treatment_date</th>\n",
       "      <th>survived</th>\n",
       "    </tr>\n",
       "  </thead>\n",
       "  <tbody>\n",
       "    <tr>\n",
       "      <th>0</th>\n",
       "      <td>1</td>\n",
       "      <td>64.0</td>\n",
       "      <td>Female</td>\n",
       "      <td>Germany</td>\n",
       "      <td>2016-04-07</td>\n",
       "      <td>Stage III</td>\n",
       "      <td>2016-04-21</td>\n",
       "      <td>No</td>\n",
       "      <td>Never Smoked</td>\n",
       "      <td>31.1</td>\n",
       "      <td>257</td>\n",
       "      <td>1</td>\n",
       "      <td>1</td>\n",
       "      <td>0</td>\n",
       "      <td>0</td>\n",
       "      <td>Combined</td>\n",
       "      <td>2017-11-15</td>\n",
       "      <td>0</td>\n",
       "    </tr>\n",
       "    <tr>\n",
       "      <th>1</th>\n",
       "      <td>2</td>\n",
       "      <td>50.0</td>\n",
       "      <td>Male</td>\n",
       "      <td>Czech Republic</td>\n",
       "      <td>2023-04-22</td>\n",
       "      <td>Stage III</td>\n",
       "      <td>2023-05-02</td>\n",
       "      <td>Yes</td>\n",
       "      <td>Passive Smoker</td>\n",
       "      <td>25.9</td>\n",
       "      <td>208</td>\n",
       "      <td>1</td>\n",
       "      <td>0</td>\n",
       "      <td>0</td>\n",
       "      <td>0</td>\n",
       "      <td>Radiation</td>\n",
       "      <td>2024-04-25</td>\n",
       "      <td>0</td>\n",
       "    </tr>\n",
       "    <tr>\n",
       "      <th>2</th>\n",
       "      <td>3</td>\n",
       "      <td>65.0</td>\n",
       "      <td>Male</td>\n",
       "      <td>Romania</td>\n",
       "      <td>2023-04-07</td>\n",
       "      <td>Stage IV</td>\n",
       "      <td>2023-04-12</td>\n",
       "      <td>No</td>\n",
       "      <td>Never Smoked</td>\n",
       "      <td>18.9</td>\n",
       "      <td>193</td>\n",
       "      <td>0</td>\n",
       "      <td>0</td>\n",
       "      <td>0</td>\n",
       "      <td>0</td>\n",
       "      <td>Surgery</td>\n",
       "      <td>2025-03-11</td>\n",
       "      <td>0</td>\n",
       "    </tr>\n",
       "    <tr>\n",
       "      <th>3</th>\n",
       "      <td>4</td>\n",
       "      <td>51.0</td>\n",
       "      <td>Female</td>\n",
       "      <td>Latvia</td>\n",
       "      <td>2016-02-07</td>\n",
       "      <td>Stage III</td>\n",
       "      <td>2016-02-13</td>\n",
       "      <td>Yes</td>\n",
       "      <td>Former Smoker</td>\n",
       "      <td>34.6</td>\n",
       "      <td>249</td>\n",
       "      <td>1</td>\n",
       "      <td>1</td>\n",
       "      <td>1</td>\n",
       "      <td>0</td>\n",
       "      <td>Surgery</td>\n",
       "      <td>2017-04-14</td>\n",
       "      <td>1</td>\n",
       "    </tr>\n",
       "    <tr>\n",
       "      <th>4</th>\n",
       "      <td>5</td>\n",
       "      <td>37.0</td>\n",
       "      <td>Male</td>\n",
       "      <td>Greece</td>\n",
       "      <td>2023-12-01</td>\n",
       "      <td>Stage I</td>\n",
       "      <td>2023-12-03</td>\n",
       "      <td>Yes</td>\n",
       "      <td>Never Smoked</td>\n",
       "      <td>40.2</td>\n",
       "      <td>262</td>\n",
       "      <td>0</td>\n",
       "      <td>0</td>\n",
       "      <td>0</td>\n",
       "      <td>0</td>\n",
       "      <td>Chemotherapy</td>\n",
       "      <td>2024-09-20</td>\n",
       "      <td>0</td>\n",
       "    </tr>\n",
       "  </tbody>\n",
       "</table>\n",
       "</div>"
      ],
      "text/plain": [
       "   id   age  gender         country diagnosis_date cancer_stage  \\\n",
       "0   1  64.0  Female         Germany     2016-04-07    Stage III   \n",
       "1   2  50.0    Male  Czech Republic     2023-04-22    Stage III   \n",
       "2   3  65.0    Male         Romania     2023-04-07     Stage IV   \n",
       "3   4  51.0  Female          Latvia     2016-02-07    Stage III   \n",
       "4   5  37.0    Male          Greece     2023-12-01      Stage I   \n",
       "\n",
       "  beginning_of_treatment_date family_history  smoking_status   bmi  \\\n",
       "0                  2016-04-21             No    Never Smoked  31.1   \n",
       "1                  2023-05-02            Yes  Passive Smoker  25.9   \n",
       "2                  2023-04-12             No    Never Smoked  18.9   \n",
       "3                  2016-02-13            Yes   Former Smoker  34.6   \n",
       "4                  2023-12-03            Yes    Never Smoked  40.2   \n",
       "\n",
       "   cholesterol_level  hypertension  asthma  cirrhosis  other_cancer  \\\n",
       "0                257             1       1          0             0   \n",
       "1                208             1       0          0             0   \n",
       "2                193             0       0          0             0   \n",
       "3                249             1       1          1             0   \n",
       "4                262             0       0          0             0   \n",
       "\n",
       "  treatment_type end_treatment_date  survived  \n",
       "0       Combined         2017-11-15         0  \n",
       "1      Radiation         2024-04-25         0  \n",
       "2        Surgery         2025-03-11         0  \n",
       "3        Surgery         2017-04-14         1  \n",
       "4   Chemotherapy         2024-09-20         0  "
      ]
     },
     "execution_count": 6,
     "metadata": {},
     "output_type": "execute_result"
    }
   ],
   "source": [
    "df =pd.read_csv (\"lung_cancer_mortality_data_large_v2.csv\")\n",
    "\n",
    "df.head()"
   ]
  },
  {
   "cell_type": "markdown",
   "id": "6328175a",
   "metadata": {},
   "source": [
    "## 1. **Pais del cual provienen la mayor cantidad de pacientes**"
   ]
  },
  {
   "cell_type": "code",
   "execution_count": 7,
   "id": "bb84117a",
   "metadata": {},
   "outputs": [
    {
     "name": "stdout",
     "output_type": "stream",
     "text": [
      "\n",
      "El país con más pacientes es: Latvia \n"
     ]
    }
   ],
   "source": [
    "\n",
    "# # Contar cuántos pacientes hay por país\n",
    "conteo_paises = df['country'].value_counts()\n",
    "\n",
    "# # Obtener el país con más pacientes\n",
    "pais_principal = conteo_paises.idxmax()\n",
    "cantidad = conteo_paises.max()\n",
    "\n",
    "print(f\"\\nEl país con más pacientes es: {pais_principal} \")\n"
   ]
  },
  {
   "cell_type": "markdown",
   "id": "d324bd3c",
   "metadata": {},
   "source": [
    "## 2. **Cuantos sobrevivieron y cuantos no**"
   ]
  },
  {
   "cell_type": "code",
   "execution_count": 8,
   "id": "77516c7d",
   "metadata": {},
   "outputs": [
    {
     "name": "stdout",
     "output_type": "stream",
     "text": [
      "\n",
      "Sobrevivieron: 713702\n",
      "No sobrevivieron: 2536298\n"
     ]
    }
   ],
   "source": [
    "# Contar cuántos sobrevivieron (1) y cuántos no (0)\n",
    "conteo_supervivencia = df['survived'].value_counts()\n",
    "\n",
    "sobrevivieron = conteo_supervivencia.get(1, 0)\n",
    "no_sobrevivieron = conteo_supervivencia.get(0, 0)\n",
    "\n",
    "print(f\"\\nSobrevivieron: {sobrevivieron}\")\n",
    "print(f\"No sobrevivieron: {no_sobrevivieron}\")"
   ]
  },
  {
   "cell_type": "markdown",
   "id": "4d7a3910",
   "metadata": {},
   "source": [
    "### 3 -Relacion entre genero y supervivencia"
   ]
  },
  {
   "cell_type": "code",
   "execution_count": 9,
   "id": "c91b981f",
   "metadata": {},
   "outputs": [
    {
     "name": "stdout",
     "output_type": "stream",
     "text": [
      "Correlación (Pearson) entre género y supervivencia: -0.00\n"
     ]
    }
   ],
   "source": [
    "# Codificar gender\n",
    "df['gender_code'] = df['gender'].map({'Female': 0, 'Male': 1})\n",
    "\n",
    "# Correlación de Pearson entre género codificado y supervivencia\n",
    "correlacion = df['gender_code'].corr(df['survived'])\n",
    "\n",
    "print(f\"Correlación (Pearson) entre género y supervivencia: {correlacion:.2f}\")\n"
   ]
  },
  {
   "cell_type": "code",
   "execution_count": 10,
   "id": "ecbfb816",
   "metadata": {},
   "outputs": [
    {
     "name": "stdout",
     "output_type": "stream",
     "text": [
      "survived        0       1\n",
      "gender                   \n",
      "Female    1268524  356966\n",
      "Male      1267774  356736\n"
     ]
    }
   ],
   "source": [
    "# Tabla de contingencia entre género y supervivencia\n",
    "tabla_genero_supervivencia = pd.crosstab(df['gender'], df['survived'])\n",
    "\n",
    "print(tabla_genero_supervivencia)\n"
   ]
  },
  {
   "cell_type": "markdown",
   "id": "097dbec2",
   "metadata": {},
   "source": [
    "## 4. ¿Existe alguna diferencia notable en la edad de los pacientes que sobrevivieron y los que no?"
   ]
  },
  {
   "cell_type": "code",
   "execution_count": 11,
   "id": "2427848e",
   "metadata": {},
   "outputs": [
    {
     "name": "stdout",
     "output_type": "stream",
     "text": [
      "survived\n",
      "0    54.993239\n",
      "1    55.022637\n",
      "Name: age, dtype: float64\n"
     ]
    }
   ],
   "source": [
    "# Edad media según supervivencia\n",
    "media_edades = df.groupby('survived')['age'].mean()\n",
    "print(media_edades)"
   ]
  },
  {
   "cell_type": "markdown",
   "id": "7cb87ca6",
   "metadata": {},
   "source": [
    "0     # No sobrevivieron\n",
    "1     # Sobrevivieron\n",
    "---\n",
    "0    54.993239\n",
    "1    55.022637\n",
    "Name: age, dtype: float64"
   ]
  },
  {
   "cell_type": "markdown",
   "id": "523acfac",
   "metadata": {},
   "source": [
    "###  5. **¿Que estadio de cancer tiene la mayor tasa de supervivencia?**"
   ]
  },
  {
   "cell_type": "code",
   "execution_count": 12,
   "id": "e2a83d71",
   "metadata": {},
   "outputs": [
    {
     "name": "stdout",
     "output_type": "stream",
     "text": [
      "cancer_stage\n",
      "Stage IV     0.219906\n",
      "Stage I      0.219700\n",
      "Stage III    0.219535\n",
      "Stage II     0.219261\n",
      "Name: survived, dtype: float64\n"
     ]
    }
   ],
   "source": [
    "# Calcular tasa de supervivencia por estadio\n",
    "tasa_supervivencia = df.groupby('cancer_stage')['survived'].mean().sort_values(ascending=False)\n",
    "print(tasa_supervivencia)"
   ]
  },
  {
   "cell_type": "code",
   "execution_count": 13,
   "id": "5ac550c9",
   "metadata": {},
   "outputs": [
    {
     "name": "stdout",
     "output_type": "stream",
     "text": [
      "El estadio con mayor tasa de supervivencia es: Stage IV\n"
     ]
    }
   ],
   "source": [
    "### ✅ 3. **¿Qué estadio tiene la mayor tasa?**\n",
    "\n",
    "mejor_estadio = tasa_supervivencia.idxmax()\n",
    "print(f\"El estadio con mayor tasa de supervivencia es: {mejor_estadio}\")"
   ]
  },
  {
   "cell_type": "markdown",
   "id": "68ad595e",
   "metadata": {},
   "source": [
    "## 6. **¿Que impacto tiene el indice de masa corporal (bmi) en la supervivencia?**"
   ]
  },
  {
   "cell_type": "code",
   "execution_count": 14,
   "id": "2c26f6c5",
   "metadata": {},
   "outputs": [
    {
     "data": {
      "application/vnd.microsoft.datawrangler.viewer.v0+json": {
       "columns": [
        {
         "name": "survived",
         "rawType": "int64",
         "type": "integer"
        },
        {
         "name": "bmi",
         "rawType": "float64",
         "type": "float"
        }
       ],
       "ref": "a71e756b-7e5c-4267-b903-cd2603a80b68",
       "rows": [
        [
         "0",
         "30.492094067810644"
        ],
        [
         "1",
         "30.495128218780387"
        ]
       ],
       "shape": {
        "columns": 1,
        "rows": 2
       }
      },
      "text/plain": [
       "survived\n",
       "0    30.492094\n",
       "1    30.495128\n",
       "Name: bmi, dtype: float64"
      ]
     },
     "execution_count": 14,
     "metadata": {},
     "output_type": "execute_result"
    }
   ],
   "source": [
    "df.groupby('survived')['bmi'].mean()\n",
    "\n",
    "# En promedio, hay diferencia en el BMI entre los pacientes que sobrevivieron y los que no."
   ]
  },
  {
   "cell_type": "code",
   "execution_count": 15,
   "id": "37dcdf31",
   "metadata": {},
   "outputs": [
    {
     "name": "stdout",
     "output_type": "stream",
     "text": [
      "Correlación entre BMI y supervivencia: 0.00\n"
     ]
    }
   ],
   "source": [
    "correlacion = df['bmi'].corr(df['survived'])\n",
    "print(f\"Correlación entre BMI y supervivencia: {correlacion:.2f}\")"
   ]
  },
  {
   "cell_type": "markdown",
   "id": "bf6a8086",
   "metadata": {},
   "source": [
    " **Interpretación**:\n",
    "\n",
    "* Valor cercano a **0**: poca o ninguna relación.\n",
    "* Valor positivo: a mayor BMI, mayor probabilidad de supervivencia.\n",
    "* Valor negativo: a mayor BMI, menor probabilidad."
   ]
  }
 ],
 "metadata": {
  "kernelspec": {
   "display_name": "venv",
   "language": "python",
   "name": "python3"
  },
  "language_info": {
   "codemirror_mode": {
    "name": "ipython",
    "version": 3
   },
   "file_extension": ".py",
   "mimetype": "text/x-python",
   "name": "python",
   "nbconvert_exporter": "python",
   "pygments_lexer": "ipython3",
   "version": "3.13.3"
  }
 },
 "nbformat": 4,
 "nbformat_minor": 5
}
